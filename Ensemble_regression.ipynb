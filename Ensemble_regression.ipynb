{
 "cells": [
  {
   "cell_type": "markdown",
   "id": "5af722be",
   "metadata": {},
   "source": [
    "# Regression using Ensemble techniques on Boston dataset"
   ]
  },
  {
   "cell_type": "code",
   "execution_count": 1,
   "id": "0e9292a7",
   "metadata": {},
   "outputs": [],
   "source": [
    "#import essential libraries\n",
    "import pandas as pd\n",
    "import numpy as np\n",
    "import seaborn as sns\n",
    "import matplotlib\n",
    "import matplotlib.pyplot as plt"
   ]
  },
  {
   "cell_type": "code",
   "execution_count": 2,
   "id": "350256ad",
   "metadata": {},
   "outputs": [
    {
     "name": "stderr",
     "output_type": "stream",
     "text": [
      "C:\\Users\\DjS\\anaconda3\\lib\\site-packages\\sklearn\\utils\\deprecation.py:87: FutureWarning: Function load_boston is deprecated; `load_boston` is deprecated in 1.0 and will be removed in 1.2.\n",
      "\n",
      "    The Boston housing prices dataset has an ethical problem. You can refer to\n",
      "    the documentation of this function for further details.\n",
      "\n",
      "    The scikit-learn maintainers therefore strongly discourage the use of this\n",
      "    dataset unless the purpose of the code is to study and educate about\n",
      "    ethical issues in data science and machine learning.\n",
      "\n",
      "    In this special case, you can fetch the dataset from the original\n",
      "    source::\n",
      "\n",
      "        import pandas as pd\n",
      "        import numpy as np\n",
      "\n",
      "\n",
      "        data_url = \"http://lib.stat.cmu.edu/datasets/boston\"\n",
      "        raw_df = pd.read_csv(data_url, sep=\"\\s+\", skiprows=22, header=None)\n",
      "        data = np.hstack([raw_df.values[::2, :], raw_df.values[1::2, :2]])\n",
      "        target = raw_df.values[1::2, 2]\n",
      "\n",
      "    Alternative datasets include the California housing dataset (i.e.\n",
      "    :func:`~sklearn.datasets.fetch_california_housing`) and the Ames housing\n",
      "    dataset. You can load the datasets as follows::\n",
      "\n",
      "        from sklearn.datasets import fetch_california_housing\n",
      "        housing = fetch_california_housing()\n",
      "\n",
      "    for the California housing dataset and::\n",
      "\n",
      "        from sklearn.datasets import fetch_openml\n",
      "        housing = fetch_openml(name=\"house_prices\", as_frame=True)\n",
      "\n",
      "    for the Ames housing dataset.\n",
      "    \n",
      "  warnings.warn(msg, category=FutureWarning)\n"
     ]
    }
   ],
   "source": [
    "#load the dataset\n",
    "from sklearn.datasets import load_boston\n",
    "boston_dataset=load_boston()"
   ]
  },
  {
   "cell_type": "code",
   "execution_count": 3,
   "id": "de49119c",
   "metadata": {},
   "outputs": [],
   "source": [
    "# input data (independent variable)\n",
    "x=boston_dataset.data\n",
    "\n",
    "## Output Data(dependent variable)\n",
    "y=boston_dataset.target"
   ]
  },
  {
   "cell_type": "code",
   "execution_count": 4,
   "id": "c7926418",
   "metadata": {},
   "outputs": [],
   "source": [
    "# splitting data to training and testing dataset.\n",
    "\n",
    "from sklearn.model_selection import train_test_split\n",
    "xtrain, xtest, ytrain, ytest = train_test_split(x,y,test_size=0.3,random_state=1)"
   ]
  },
  {
   "cell_type": "markdown",
   "id": "ed54432f",
   "metadata": {},
   "source": [
    "# Random forest"
   ]
  },
  {
   "cell_type": "code",
   "execution_count": 5,
   "id": "461b6271",
   "metadata": {},
   "outputs": [
    {
     "data": {
      "text/plain": [
       "RandomForestRegressor()"
      ]
     },
     "execution_count": 5,
     "metadata": {},
     "output_type": "execute_result"
    }
   ],
   "source": [
    "from sklearn.ensemble import RandomForestRegressor\n",
    "regressor=RandomForestRegressor(n_estimators=100)\n",
    "regressor.fit(xtrain,ytrain)"
   ]
  },
  {
   "cell_type": "code",
   "execution_count": 6,
   "id": "6d5ad7c3",
   "metadata": {},
   "outputs": [],
   "source": [
    "y_pred=regressor.predict(xtest)"
   ]
  },
  {
   "cell_type": "code",
   "execution_count": 21,
   "id": "bf0b4190",
   "metadata": {},
   "outputs": [
    {
     "data": {
      "text/plain": [
       "0.9109167703419092"
      ]
     },
     "execution_count": 21,
     "metadata": {},
     "output_type": "execute_result"
    }
   ],
   "source": [
    "from sklearn.metrics import r2_score,mean_squared_error\n",
    "rf_score=r2_score(ytest,y_pred)\n",
    "rf_score"
   ]
  },
  {
   "cell_type": "code",
   "execution_count": 8,
   "id": "4b5f35ae",
   "metadata": {},
   "outputs": [
    {
     "data": {
      "text/plain": [
       "8.164877723684215"
      ]
     },
     "execution_count": 8,
     "metadata": {},
     "output_type": "execute_result"
    }
   ],
   "source": [
    "mse_rf=mean_squared_error(ytest,y_pred)\n",
    "mse_rf"
   ]
  },
  {
   "cell_type": "code",
   "execution_count": 9,
   "id": "327b045a",
   "metadata": {},
   "outputs": [
    {
     "data": {
      "text/plain": [
       "array([28.769, 26.798, 19.402, 20.919, 19.542, 19.525, 28.755, 18.898,\n",
       "       20.212, 23.391, 27.622, 31.832, 20.356, 20.197, 19.867, 25.408,\n",
       "       12.194, 41.66 , 23.788, 14.625, 19.613, 17.397, 24.253, 23.925,\n",
       "       26.547,  9.288, 14.411, 20.082, 38.871, 12.363, 27.053, 20.248,\n",
       "       47.07 , 16.08 , 23.017, 21.075, 15.265, 32.745, 13.042, 19.508,\n",
       "       24.566, 23.221, 25.701, 15.788, 16.093, 10.84 , 48.164, 12.229,\n",
       "       21.677, 18.637, 24.162, 21.5  , 24.852, 21.077, 10.993, 23.947,\n",
       "       11.496, 24.769, 18.429, 42.023, 14.504, 26.964, 13.63 , 15.382,\n",
       "       18.72 , 32.963, 41.955, 24.951, 21.523, 20.147, 24.014,  7.376,\n",
       "       18.289, 21.918, 19.643, 20.835, 46.63 , 24.317, 29.15 , 33.648,\n",
       "       17.038, 20.517, 33.184, 11.514, 24.818, 25.681, 15.2  , 25.098,\n",
       "       19.668, 16.982, 27.529, 43.495, 15.526, 21.309, 15.587, 20.301,\n",
       "       23.494, 22.801, 43.567, 20.877, 17.011, 15.508, 24.608, 23.833,\n",
       "        9.108, 20.637, 16.627, 30.075, 25.041, 26.249, 46.856, 23.26 ,\n",
       "       13.194, 32.774, 35.8  , 33.759, 20.182, 18.575, 33.332, 39.307,\n",
       "       21.153, 13.77 , 30.598, 19.964, 24.562, 20.74 , 22.619, 17.556,\n",
       "       20.328, 27.243, 20.03 , 22.465, 25.407, 10.632, 25.206, 32.977,\n",
       "       14.261, 15.243, 36.341, 15.183, 21.746, 15.157, 18.313, 24.512,\n",
       "       32.34 , 21.57 , 24.023, 15.094, 27.502, 19.173, 30.873, 16.125])"
      ]
     },
     "execution_count": 9,
     "metadata": {},
     "output_type": "execute_result"
    }
   ],
   "source": [
    "y_pred"
   ]
  },
  {
   "cell_type": "code",
   "execution_count": 10,
   "id": "3355a77f",
   "metadata": {},
   "outputs": [
    {
     "data": {
      "text/plain": [
       "array([4.9320e-02, 3.3000e+01, 2.1800e+00, 0.0000e+00, 4.7200e-01,\n",
       "       6.8490e+00, 7.0300e+01, 3.1827e+00, 7.0000e+00, 2.2200e+02,\n",
       "       1.8400e+01, 3.9690e+02, 7.5300e+00])"
      ]
     },
     "execution_count": 10,
     "metadata": {},
     "output_type": "execute_result"
    }
   ],
   "source": [
    "xtest[0]"
   ]
  },
  {
   "cell_type": "code",
   "execution_count": 11,
   "id": "6992feb1",
   "metadata": {},
   "outputs": [
    {
     "data": {
      "text/plain": [
       "array([28.769])"
      ]
     },
     "execution_count": 11,
     "metadata": {},
     "output_type": "execute_result"
    }
   ],
   "source": [
    "# lets try our models accuracy \n",
    "\n",
    "y_predict=regressor.predict([[4.9320e-02, 3.3000e+01, 2.1800e+00, 0.0000e+00, 4.7200e-01,\n",
    "       6.8490e+00, 7.0300e+01, 3.1827e+00, 7.0000e+00, 2.2200e+02,\n",
    "       1.8400e+01, 3.9690e+02, 7.5300e+00]])\n",
    "y_predict"
   ]
  },
  {
   "cell_type": "markdown",
   "id": "c433f983",
   "metadata": {},
   "source": [
    "# Adaboost Regressor"
   ]
  },
  {
   "cell_type": "code",
   "execution_count": 12,
   "id": "b116ff30",
   "metadata": {},
   "outputs": [
    {
     "data": {
      "text/plain": [
       "AdaBoostRegressor()"
      ]
     },
     "execution_count": 12,
     "metadata": {},
     "output_type": "execute_result"
    }
   ],
   "source": [
    "from sklearn.ensemble import AdaBoostRegressor\n",
    "adb_reg=AdaBoostRegressor()\n",
    "adb_reg.fit(xtrain,ytrain)"
   ]
  },
  {
   "cell_type": "code",
   "execution_count": 13,
   "id": "3cc2d59c",
   "metadata": {},
   "outputs": [],
   "source": [
    "adb_pred=adb_reg.predict(xtest)"
   ]
  },
  {
   "cell_type": "code",
   "execution_count": 22,
   "id": "41947412",
   "metadata": {},
   "outputs": [
    {
     "data": {
      "text/plain": [
       "0.8224514685678044"
      ]
     },
     "execution_count": 22,
     "metadata": {},
     "output_type": "execute_result"
    }
   ],
   "source": [
    "from sklearn.metrics import r2_score,mean_squared_error\n",
    "ab_score=r2_score(ytest,adb_pred)\n",
    "ab_score"
   ]
  },
  {
   "cell_type": "code",
   "execution_count": 15,
   "id": "237e20db",
   "metadata": {},
   "outputs": [
    {
     "data": {
      "text/plain": [
       "16.2731195840958"
      ]
     },
     "execution_count": 15,
     "metadata": {},
     "output_type": "execute_result"
    }
   ],
   "source": [
    "mse_ab=mean_squared_error(ytest,adb_pred)\n",
    "mse_ab"
   ]
  },
  {
   "cell_type": "markdown",
   "id": "9a3df1ab",
   "metadata": {},
   "source": [
    "# Gradient regressor"
   ]
  },
  {
   "cell_type": "code",
   "execution_count": 16,
   "id": "dcd6e95e",
   "metadata": {},
   "outputs": [
    {
     "data": {
      "text/plain": [
       "GradientBoostingRegressor()"
      ]
     },
     "execution_count": 16,
     "metadata": {},
     "output_type": "execute_result"
    }
   ],
   "source": [
    "from sklearn.ensemble import GradientBoostingRegressor\n",
    "gb_reg=GradientBoostingRegressor()\n",
    "gb_reg.fit(xtrain,ytrain)"
   ]
  },
  {
   "cell_type": "code",
   "execution_count": 17,
   "id": "096caca9",
   "metadata": {},
   "outputs": [],
   "source": [
    "gb_pred=gb_reg.predict(xtest)"
   ]
  },
  {
   "cell_type": "code",
   "execution_count": 23,
   "id": "aa7012d7",
   "metadata": {},
   "outputs": [
    {
     "data": {
      "text/plain": [
       "0.9222125973453925"
      ]
     },
     "execution_count": 23,
     "metadata": {},
     "output_type": "execute_result"
    }
   ],
   "source": [
    "from sklearn.metrics import r2_score,mean_squared_error\n",
    "gb_score=r2_score(ytest,gb_pred)\n",
    "gb_score"
   ]
  },
  {
   "cell_type": "code",
   "execution_count": 19,
   "id": "a3ca44f7",
   "metadata": {},
   "outputs": [
    {
     "data": {
      "text/plain": [
       "7.129564493289287"
      ]
     },
     "execution_count": 19,
     "metadata": {},
     "output_type": "execute_result"
    }
   ],
   "source": [
    "mse_gb=mean_squared_error(ytest,gb_pred)\n",
    "mse_gb"
   ]
  },
  {
   "cell_type": "markdown",
   "id": "748c9539",
   "metadata": {},
   "source": [
    "# Comparison "
   ]
  },
  {
   "cell_type": "code",
   "execution_count": 25,
   "id": "f945efc9",
   "metadata": {},
   "outputs": [
    {
     "data": {
      "text/html": [
       "<div>\n",
       "<style scoped>\n",
       "    .dataframe tbody tr th:only-of-type {\n",
       "        vertical-align: middle;\n",
       "    }\n",
       "\n",
       "    .dataframe tbody tr th {\n",
       "        vertical-align: top;\n",
       "    }\n",
       "\n",
       "    .dataframe thead th {\n",
       "        text-align: right;\n",
       "    }\n",
       "</style>\n",
       "<table border=\"1\" class=\"dataframe\">\n",
       "  <thead>\n",
       "    <tr style=\"text-align: right;\">\n",
       "      <th></th>\n",
       "      <th>Name</th>\n",
       "      <th>r2_score</th>\n",
       "      <th>mse</th>\n",
       "    </tr>\n",
       "  </thead>\n",
       "  <tbody>\n",
       "    <tr>\n",
       "      <th>0</th>\n",
       "      <td>RF</td>\n",
       "      <td>0.910917</td>\n",
       "      <td>8.164878</td>\n",
       "    </tr>\n",
       "    <tr>\n",
       "      <th>1</th>\n",
       "      <td>Adaboost</td>\n",
       "      <td>0.822451</td>\n",
       "      <td>16.273120</td>\n",
       "    </tr>\n",
       "    <tr>\n",
       "      <th>2</th>\n",
       "      <td>Gboost</td>\n",
       "      <td>0.922213</td>\n",
       "      <td>7.129564</td>\n",
       "    </tr>\n",
       "  </tbody>\n",
       "</table>\n",
       "</div>"
      ],
      "text/plain": [
       "       Name  r2_score        mse\n",
       "0        RF  0.910917   8.164878\n",
       "1  Adaboost  0.822451  16.273120\n",
       "2    Gboost  0.922213   7.129564"
      ]
     },
     "execution_count": 25,
     "metadata": {},
     "output_type": "execute_result"
    }
   ],
   "source": [
    "import pandas as pd\n",
    "  \n",
    "# initialize list of lists\n",
    "data = [[\"RF\",rf_score, mse_rf], [\"Adaboost\",ab_score, mse_ab], [\"Gboost\",gb_score, mse_gb]]\n",
    "  \n",
    "# Create the pandas DataFrame\n",
    "df = pd.DataFrame(data, columns=['Name', 'r2_score',\"mse\"])\n",
    "  \n",
    "# print dataframe.\n",
    "df"
   ]
  },
  {
   "cell_type": "markdown",
   "id": "6a925f59",
   "metadata": {},
   "source": [
    "Conclusion: Among all three techniques, gradient boost seems to be best for given dataset"
   ]
  },
  {
   "cell_type": "code",
   "execution_count": null,
   "id": "1cbac94f",
   "metadata": {},
   "outputs": [],
   "source": []
  }
 ],
 "metadata": {
  "kernelspec": {
   "display_name": "Python 3 (ipykernel)",
   "language": "python",
   "name": "python3"
  },
  "language_info": {
   "codemirror_mode": {
    "name": "ipython",
    "version": 3
   },
   "file_extension": ".py",
   "mimetype": "text/x-python",
   "name": "python",
   "nbconvert_exporter": "python",
   "pygments_lexer": "ipython3",
   "version": "3.9.12"
  }
 },
 "nbformat": 4,
 "nbformat_minor": 5
}
